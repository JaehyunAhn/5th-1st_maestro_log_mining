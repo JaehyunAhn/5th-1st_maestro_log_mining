{
  "nbformat": 4,
  "nbformat_minor": 0,
  "metadata": {
    "colab": {
      "name": "[Nexon]ReviewNLP.ipynb",
      "provenance": [],
      "authorship_tag": "ABX9TyOTGDEhpliWUsJ0ijOHXAVq",
      "include_colab_link": true
    },
    "kernelspec": {
      "name": "python3",
      "display_name": "Python 3"
    }
  },
  "cells": [
    {
      "cell_type": "markdown",
      "metadata": {
        "id": "view-in-github",
        "colab_type": "text"
      },
      "source": [
        "<a href=\"https://colab.research.google.com/github/JaehyunAhn/5th-1st_maestro_log_mining/blob/master/%5BNexon%5DReviewNLP.ipynb\" target=\"_parent\"><img src=\"https://colab.research.google.com/assets/colab-badge.svg\" alt=\"Open In Colab\"/></a>"
      ]
    },
    {
      "cell_type": "code",
      "metadata": {
        "id": "2CVBQk-H4lpR"
      },
      "source": [
        "# https://ratsgo.github.io/natural%20language%20processing/2017/03/08/word2vec/\r\n",
        "# https://beomi.github.io/2020/01/05/Clustering_Twitter_Users/"
      ],
      "execution_count": null,
      "outputs": []
    },
    {
      "cell_type": "code",
      "metadata": {
        "id": "GtzTZyXO4t_C"
      },
      "source": [
        "from gensim.models import Word2Vec"
      ],
      "execution_count": null,
      "outputs": []
    },
    {
      "cell_type": "code",
      "metadata": {
        "id": "6FhvkanD47Sx"
      },
      "source": [
        "import pandas as pd\r\n",
        "import numpy as np"
      ],
      "execution_count": null,
      "outputs": []
    },
    {
      "cell_type": "code",
      "metadata": {
        "colab": {
          "base_uri": "https://localhost:8080/"
        },
        "id": "Dv-H1Fn-49Ep",
        "outputId": "2c6ff615-aaeb-4e55-db03-ef54957bd215"
      },
      "source": [
        "!pip install soynlp"
      ],
      "execution_count": null,
      "outputs": [
        {
          "output_type": "stream",
          "text": [
            "Collecting soynlp\n",
            "\u001b[?25l  Downloading https://files.pythonhosted.org/packages/7e/50/6913dc52a86a6b189419e59f9eef1b8d599cffb6f44f7bb91854165fc603/soynlp-0.0.493-py3-none-any.whl (416kB)\n",
            "\r\u001b[K     |▉                               | 10kB 15.2MB/s eta 0:00:01\r\u001b[K     |█▋                              | 20kB 12.5MB/s eta 0:00:01\r\u001b[K     |██▍                             | 30kB 7.9MB/s eta 0:00:01\r\u001b[K     |███▏                            | 40kB 7.9MB/s eta 0:00:01\r\u001b[K     |████                            | 51kB 4.4MB/s eta 0:00:01\r\u001b[K     |████▊                           | 61kB 4.9MB/s eta 0:00:01\r\u001b[K     |█████▌                          | 71kB 5.1MB/s eta 0:00:01\r\u001b[K     |██████▎                         | 81kB 5.2MB/s eta 0:00:01\r\u001b[K     |███████                         | 92kB 5.4MB/s eta 0:00:01\r\u001b[K     |███████▉                        | 102kB 5.7MB/s eta 0:00:01\r\u001b[K     |████████▋                       | 112kB 5.7MB/s eta 0:00:01\r\u001b[K     |█████████▍                      | 122kB 5.7MB/s eta 0:00:01\r\u001b[K     |██████████▏                     | 133kB 5.7MB/s eta 0:00:01\r\u001b[K     |███████████                     | 143kB 5.7MB/s eta 0:00:01\r\u001b[K     |███████████▉                    | 153kB 5.7MB/s eta 0:00:01\r\u001b[K     |████████████▋                   | 163kB 5.7MB/s eta 0:00:01\r\u001b[K     |█████████████▍                  | 174kB 5.7MB/s eta 0:00:01\r\u001b[K     |██████████████▏                 | 184kB 5.7MB/s eta 0:00:01\r\u001b[K     |███████████████                 | 194kB 5.7MB/s eta 0:00:01\r\u001b[K     |███████████████▊                | 204kB 5.7MB/s eta 0:00:01\r\u001b[K     |████████████████▌               | 215kB 5.7MB/s eta 0:00:01\r\u001b[K     |█████████████████▎              | 225kB 5.7MB/s eta 0:00:01\r\u001b[K     |██████████████████              | 235kB 5.7MB/s eta 0:00:01\r\u001b[K     |██████████████████▉             | 245kB 5.7MB/s eta 0:00:01\r\u001b[K     |███████████████████▋            | 256kB 5.7MB/s eta 0:00:01\r\u001b[K     |████████████████████▍           | 266kB 5.7MB/s eta 0:00:01\r\u001b[K     |█████████████████████▎          | 276kB 5.7MB/s eta 0:00:01\r\u001b[K     |██████████████████████          | 286kB 5.7MB/s eta 0:00:01\r\u001b[K     |██████████████████████▉         | 296kB 5.7MB/s eta 0:00:01\r\u001b[K     |███████████████████████▋        | 307kB 5.7MB/s eta 0:00:01\r\u001b[K     |████████████████████████▍       | 317kB 5.7MB/s eta 0:00:01\r\u001b[K     |█████████████████████████▏      | 327kB 5.7MB/s eta 0:00:01\r\u001b[K     |██████████████████████████      | 337kB 5.7MB/s eta 0:00:01\r\u001b[K     |██████████████████████████▊     | 348kB 5.7MB/s eta 0:00:01\r\u001b[K     |███████████████████████████▌    | 358kB 5.7MB/s eta 0:00:01\r\u001b[K     |████████████████████████████▎   | 368kB 5.7MB/s eta 0:00:01\r\u001b[K     |█████████████████████████████   | 378kB 5.7MB/s eta 0:00:01\r\u001b[K     |█████████████████████████████▉  | 389kB 5.7MB/s eta 0:00:01\r\u001b[K     |██████████████████████████████▋ | 399kB 5.7MB/s eta 0:00:01\r\u001b[K     |███████████████████████████████▌| 409kB 5.7MB/s eta 0:00:01\r\u001b[K     |████████████████████████████████| 419kB 5.7MB/s \n",
            "\u001b[?25hRequirement already satisfied: psutil>=5.0.1 in /usr/local/lib/python3.6/dist-packages (from soynlp) (5.4.8)\n",
            "Requirement already satisfied: numpy>=1.12.1 in /usr/local/lib/python3.6/dist-packages (from soynlp) (1.18.5)\n",
            "Requirement already satisfied: scipy>=1.1.0 in /usr/local/lib/python3.6/dist-packages (from soynlp) (1.4.1)\n",
            "Requirement already satisfied: scikit-learn>=0.20.0 in /usr/local/lib/python3.6/dist-packages (from soynlp) (0.22.2.post1)\n",
            "Requirement already satisfied: joblib>=0.11 in /usr/local/lib/python3.6/dist-packages (from scikit-learn>=0.20.0->soynlp) (0.17.0)\n",
            "Installing collected packages: soynlp\n",
            "Successfully installed soynlp-0.0.493\n"
          ],
          "name": "stdout"
        }
      ]
    },
    {
      "cell_type": "code",
      "metadata": {
        "id": "5mWbvUVh5Gpo"
      },
      "source": [
        "# https://github.com/lovit/soynlp/\r\n",
        "import soynlp"
      ],
      "execution_count": null,
      "outputs": []
    },
    {
      "cell_type": "code",
      "metadata": {
        "id": "xJnqz1Gm5YCI"
      },
      "source": [
        ""
      ],
      "execution_count": null,
      "outputs": []
    }
  ]
}